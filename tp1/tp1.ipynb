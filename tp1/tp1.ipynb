{
 "cells": [
  {
   "cell_type": "markdown",
   "metadata": {},
   "source": [
    "### **Ejercicio 1**  \n",
    "Dado el grafo de cómputo de la imagen siguiente (imagen: ejercicio1-grafo.jpeg), donde a=1, b=2 y c=3:\n",
    "Realizar el paso forward y calcular Y.  \n",
    "Realizar el paso backward y calcular el backpropagation para a,b y c:  \n",
    "**a.** En forma analítica (dy/dx = 0).  \n",
    "**b.** Utilizando pytorch.  \n",
    "**c.** Comparar los resultados de los puntos anteriores."
   ]
  },
  {
   "cell_type": "code",
   "execution_count": 2,
   "metadata": {},
   "outputs": [],
   "source": [
    "import torch"
   ]
  },
  {
   "cell_type": "markdown",
   "metadata": {},
   "source": [
    "Variables iniciales."
   ]
  },
  {
   "cell_type": "code",
   "execution_count": 3,
   "metadata": {},
   "outputs": [],
   "source": [
    "a = torch.tensor(1., requires_grad=True)\n",
    "b = torch.tensor(2., requires_grad=True)\n",
    "c = torch.tensor(3., requires_grad=True)"
   ]
  },
  {
   "cell_type": "markdown",
   "metadata": {},
   "source": [
    "Pas forward."
   ]
  },
  {
   "cell_type": "code",
   "execution_count": 4,
   "metadata": {},
   "outputs": [],
   "source": [
    "d = a + b\n",
    "e = b - c\n",
    "Y = d * e"
   ]
  },
  {
   "cell_type": "code",
   "execution_count": 5,
   "metadata": {},
   "outputs": [
    {
     "name": "stdout",
     "output_type": "stream",
     "text": [
      "Valor de Y: -3.0\n"
     ]
    }
   ],
   "source": [
    "print(f\"Valor de Y: {Y.item()}\")"
   ]
  },
  {
   "cell_type": "markdown",
   "metadata": {},
   "source": [
    "Paso backward."
   ]
  },
  {
   "cell_type": "code",
   "execution_count": 6,
   "metadata": {},
   "outputs": [],
   "source": [
    "Y.backward()"
   ]
  },
  {
   "cell_type": "markdown",
   "metadata": {},
   "source": [
    "Obtener los Gradientes."
   ]
  },
  {
   "cell_type": "code",
   "execution_count": 7,
   "metadata": {},
   "outputs": [
    {
     "name": "stdout",
     "output_type": "stream",
     "text": [
      "Gradiente de Y con respecto a a: -1.0\n",
      "Gradiente de Y con respecto a b: 2.0\n",
      "Gradiente de Y con respecto a c: -3.0\n"
     ]
    }
   ],
   "source": [
    "grad_a = a.grad\n",
    "grad_b = b.grad\n",
    "grad_c = c.grad\n",
    "\n",
    "print(f\"Gradiente de Y con respecto a a: {grad_a.item()}\")\n",
    "print(f\"Gradiente de Y con respecto a b: {grad_b.item()}\")\n",
    "print(f\"Gradiente de Y con respecto a c: {grad_c.item()}\")"
   ]
  },
  {
   "cell_type": "markdown",
   "metadata": {},
   "source": [
    "Resultados analíticos."
   ]
  },
  {
   "cell_type": "code",
   "execution_count": 8,
   "metadata": {},
   "outputs": [
    {
     "name": "stdout",
     "output_type": "stream",
     "text": [
      "Gradiente analítico de Y con respecto a a: -1.0\n",
      "Gradiente analítico de Y con respecto a b: 2.0\n",
      "Gradiente analítico de Y con respecto a c: -3.0\n"
     ]
    }
   ],
   "source": [
    "analytical_grad_a = b - c\n",
    "analytical_grad_b = (b - c) + (a + b)\n",
    "analytical_grad_c = -(a + b)\n",
    "\n",
    "print(f\"Gradiente analítico de Y con respecto a a: {analytical_grad_a}\")\n",
    "print(f\"Gradiente analítico de Y con respecto a b: {analytical_grad_b}\")\n",
    "print(f\"Gradiente analítico de Y con respecto a c: {analytical_grad_c}\")"
   ]
  },
  {
   "cell_type": "markdown",
   "metadata": {},
   "source": [
    "Comparación de resultados."
   ]
  },
  {
   "cell_type": "code",
   "execution_count": 9,
   "metadata": {},
   "outputs": [
    {
     "name": "stdout",
     "output_type": "stream",
     "text": [
      "Comparación de resultados:\n",
      "a - PyTorch: -1.0, \tAnalítico: -1.0.\n",
      "b - PyTorch: 2.0, \tAnalítico: 2.0.\n",
      "c - PyTorch: -3.0, \tAnalítico: -3.0.\n"
     ]
    }
   ],
   "source": [
    "print(\"Comparación de resultados:\")\n",
    "print(f\"a - PyTorch: {grad_a.item()}, \\tAnalítico: {analytical_grad_a}.\")\n",
    "print(f\"b - PyTorch: {grad_b.item()}, \\tAnalítico: {analytical_grad_b}.\")\n",
    "print(f\"c - PyTorch: {grad_c.item()}, \\tAnalítico: {analytical_grad_c}.\")\n"
   ]
  },
  {
   "cell_type": "markdown",
   "metadata": {},
   "source": [
    "### **Ejercicio 2.**  \n",
    "Se desea construir un sistema de recomendación de películas. Para esto se cuenta con un dataset de las puntuaciones que los usuarios han asignado a las peliculas disponibles.  \n",
    "\n",
    "Link dataset: https://drive.google.com/file/d/1Og9H-8oqb3_Wo_WOakeAuRR_mwr922Ar/view?usp=sharing  \n",
    "\n",
    "Para verificar la factibilidad del proyecto con datos válidos, se decide utilizar solamente las 200 películas con más votos y los usuarios que han puntuado al menos 100 películas.  \n",
    "\n",
    "**1.** Analizar el dataset para utilizar solamente las 200 películas con mayor cantidad de votos y los usuarios que hayan votado al menos 100 películas.  \n",
    "\n",
    "**2.** A partir del dataset del punto 1, construir una única red neuronal que utilice una capa de embeddings para el id de usuario, una capa de embeddings para el id de película y al menos dos capas lineales que sea capaz de predecir el puntaje que cada usuario colocó a cada pelicula.  \n",
    "\n",
    "**3.** Elegir un usuario al azar, una película que dicho usuario haya puntuado y verificar la predicción del modelo. Comparar con el puntaje real que el usuario asignó a dicha película.  \n",
    "\n",
    "**4.** Realizar una recomendación de película para el usuario del punto 3 utilizando los embeddings de usuario o los embeddings de películas. Comprobar si la recomendación es correcta haciendo una predicción del puntuaje con la red neuronal.  "
   ]
  },
  {
   "cell_type": "code",
   "execution_count": 10,
   "metadata": {},
   "outputs": [],
   "source": [
    "import pandas as pd\n",
    "import numpy as np\n",
    "import torch\n",
    "import torch.nn as nn\n",
    "import torch.optim as optim\n",
    "import torch.nn.functional as F\n",
    "from sklearn.model_selection import train_test_split\n",
    "from torch.utils.data import TensorDataset, DataLoader\n",
    "import matplotlib.pyplot as plt"
   ]
  },
  {
   "cell_type": "code",
   "execution_count": 11,
   "metadata": {},
   "outputs": [],
   "source": [
    "def load_data():\n",
    "    return pd.read_csv('./ratings.csv')\n",
    "\n",
    "ratings = load_data()"
   ]
  },
  {
   "cell_type": "markdown",
   "metadata": {},
   "source": [
    "**1.** Analizar el dataset para utilizar solamente las 200 películas con mayor cantidad de votos y los usuarios que hayan votado al menos 100 películas.  "
   ]
  },
  {
   "cell_type": "code",
   "execution_count": 12,
   "metadata": {},
   "outputs": [],
   "source": [
    "def preprocess_data(ratings):\n",
    "    movie_counts = ratings['movieId'].value_counts()\n",
    "    top_200_movies = movie_counts.head(200).index\n",
    "    filtered_ratings = ratings[ratings['movieId'].isin(top_200_movies)]\n",
    "\n",
    "    user_counts = filtered_ratings['userId'].value_counts()\n",
    "    active_users = user_counts[user_counts >= 100].index\n",
    "    filtered_ratings = filtered_ratings[filtered_ratings['userId'].isin(active_users)]\n",
    "\n",
    "    user_id_map = {id: idx for idx, id in enumerate(filtered_ratings['userId'].unique())}\n",
    "    movie_id_map = {id: idx for idx, id in enumerate(filtered_ratings['movieId'].unique())}\n",
    "\n",
    "    filtered_ratings['userId'] = filtered_ratings['userId'].map(user_id_map)\n",
    "    filtered_ratings['movieId'] = filtered_ratings['movieId'].map(movie_id_map)\n",
    "\n",
    "    return filtered_ratings, user_id_map, movie_id_map\n",
    "\n",
    "\n",
    "filtered_ratings, user_id_map, movie_id_map = preprocess_data(ratings)"
   ]
  },
  {
   "cell_type": "markdown",
   "metadata": {},
   "source": [
    "**2.** A partir del dataset del punto 1, construir una única red neuronal que utilice una capa de embeddings para el id de usuario, una capa de embeddings para el id de película y al menos dos capas lineales que sea capaz de predecir el puntaje que cada usuario colocó a cada pelicula."
   ]
  },
  {
   "cell_type": "code",
   "execution_count": 13,
   "metadata": {},
   "outputs": [],
   "source": [
    "class ComplexRecommenderNet(nn.Module):\n",
    "    def __init__(self, num_users, num_movies, embedding_size):\n",
    "        super().__init__()\n",
    "        self.user_embedding = nn.Embedding(num_users, embedding_size)\n",
    "        self.movie_embedding = nn.Embedding(num_movies, embedding_size)\n",
    "        self.fc1 = nn.Linear(embedding_size * 2, 128)\n",
    "        self.fc2 = nn.Linear(128, 64)\n",
    "        self.output = nn.Linear(64, 1)\n",
    "    \n",
    "    def forward(self, user_ids, movie_ids):\n",
    "        user_embedding = self.user_embedding(user_ids)\n",
    "        movie_embedding = self.movie_embedding(movie_ids)\n",
    "        x = torch.cat([user_embedding, movie_embedding], dim=1)\n",
    "        x = F.relu(self.fc1(x))\n",
    "        x = F.relu(self.fc2(x))\n",
    "        return self.output(x)"
   ]
  },
  {
   "cell_type": "code",
   "execution_count": 14,
   "metadata": {},
   "outputs": [],
   "source": [
    "def create_model(user_id_map, movie_id_map):\n",
    "    num_users = len(user_id_map)\n",
    "    num_movies = len(movie_id_map)\n",
    "    embedding_size = 50\n",
    "    model = ComplexRecommenderNet(num_users, num_movies, embedding_size)\n",
    "    return model\n",
    "\n",
    "model = create_model(user_id_map, movie_id_map)"
   ]
  },
  {
   "cell_type": "markdown",
   "metadata": {},
   "source": [
    "Crear el conjunto de datos y el cargador de datos."
   ]
  },
  {
   "cell_type": "code",
   "execution_count": 15,
   "metadata": {},
   "outputs": [],
   "source": [
    "def create_data_loader(filtered_ratings):\n",
    "    train_data, test_data = train_test_split(filtered_ratings, test_size=0.2, random_state=42)\n",
    "    train_dataset = TensorDataset(torch.tensor(train_data['userId'].values, dtype=torch.int64), \n",
    "                                  torch.tensor(train_data['movieId'].values, dtype=torch.int64), \n",
    "                                  torch.tensor(train_data['rating'].values, dtype=torch.float32))\n",
    "    train_loader = DataLoader(train_dataset, batch_size=256, shuffle=True)\n",
    "    return train_loader, train_data, test_data\n",
    "\n",
    "train_loader, train_data, test_data = create_data_loader(filtered_ratings)"
   ]
  },
  {
   "cell_type": "code",
   "execution_count": 42,
   "metadata": {},
   "outputs": [
    {
     "name": "stdout",
     "output_type": "stream",
     "text": [
      "Epoch 0, Loss: 0.005573777835471211\n",
      "Epoch 1, Loss: 0.003511468293490233\n",
      "Epoch 2, Loss: 0.0026889393770101445\n",
      "Epoch 3, Loss: 0.00222838731241171\n",
      "Epoch 4, Loss: 0.0018456523647290414\n",
      "Epoch 5, Loss: 0.001557004594899438\n",
      "Epoch 6, Loss: 0.0014214050455915708\n",
      "Epoch 7, Loss: 0.0012726114817067152\n",
      "Epoch 8, Loss: 0.0010740965107861147\n",
      "Epoch 9, Loss: 0.0009372699208109191\n",
      "Epoch 10, Loss: 0.0008813254944807677\n",
      "Epoch 11, Loss: 0.0008198379957186127\n",
      "Epoch 12, Loss: 0.0008606813304747144\n",
      "Epoch 13, Loss: 0.0007919667793127397\n",
      "Epoch 14, Loss: 0.0007351653163183342\n",
      "Epoch 15, Loss: 0.0006322051717520312\n",
      "Epoch 16, Loss: 0.0005566494267744323\n",
      "Epoch 17, Loss: 0.0005350297864492017\n",
      "Epoch 18, Loss: 0.00047097295949546\n",
      "Epoch 19, Loss: 0.00042665803253098773\n",
      "Epoch 20, Loss: 0.0004109100894614433\n",
      "Epoch 21, Loss: 0.0003691515637371965\n",
      "Epoch 22, Loss: 0.0003863533994364035\n",
      "Epoch 23, Loss: 0.00032579540964905863\n",
      "Epoch 24, Loss: 0.0003313645688144283\n",
      "Epoch 25, Loss: 0.0003792038596994071\n",
      "Epoch 26, Loss: 0.00031617630048896427\n",
      "Epoch 27, Loss: 0.0003025594355508306\n",
      "Epoch 28, Loss: 0.00023893566901312657\n",
      "Epoch 29, Loss: 0.0002122854601583202\n",
      "Epoch 30, Loss: 0.00021465523631950082\n",
      "Epoch 31, Loss: 0.00020621544670710272\n",
      "Epoch 32, Loss: 0.0001996592536333655\n",
      "Epoch 33, Loss: 0.0001702278195470744\n",
      "Epoch 34, Loss: 0.0001607326040458348\n",
      "Epoch 35, Loss: 0.00016086089292204834\n",
      "Epoch 36, Loss: 0.00014383236244881387\n",
      "Epoch 37, Loss: 0.00013836663587156822\n",
      "Epoch 38, Loss: 0.00014122792425849993\n",
      "Epoch 39, Loss: 0.00012872712937274223\n",
      "Epoch 40, Loss: 0.00012138929674552788\n",
      "Epoch 41, Loss: 0.00010757542892221224\n",
      "Epoch 42, Loss: 0.00011053327667738174\n",
      "Epoch 43, Loss: 0.00010674136137822643\n",
      "Epoch 44, Loss: 0.00010636343399205038\n",
      "Epoch 45, Loss: 8.981217858187544e-05\n",
      "Epoch 46, Loss: 8.701457934673979e-05\n",
      "Epoch 47, Loss: 7.191082160581438e-05\n",
      "Epoch 48, Loss: 6.565117810505735e-05\n",
      "Epoch 49, Loss: 6.808731847774686e-05\n"
     ]
    },
    {
     "data": {
      "image/png": "[encoded data removed]",
      "text/plain": [
       "<Figure size 640x480 with 1 Axes>"
      ]
     },
     "metadata": {},
     "output_type": "display_data"
    }
   ],
   "source": [
    "def train_model(model, train_loader):\n",
    "    optimizer = torch.optim.Adam(model.parameters(), lr=0.0001)\n",
    "    loss_fn = nn.MSELoss()\n",
    "    epochs = 50\n",
    "    losses = []\n",
    "    for epoch in range(epochs):\n",
    "        model.train()\n",
    "        epoch_losses = []\n",
    "        for user_ids, movie_ids, ratings in train_loader:\n",
    "            optimizer.zero_grad()\n",
    "            outputs = model(user_ids, movie_ids).squeeze()\n",
    "            loss = loss_fn(outputs, ratings)\n",
    "            loss.backward()\n",
    "            optimizer.step()\n",
    "            epoch_losses.append(loss.item())\n",
    "        epoch_loss = sum(epoch_losses) / len(epoch_losses)\n",
    "        losses.append(epoch_loss)\n",
    "        print(f'Epoch {epoch}, Loss: {epoch_loss}')\n",
    "    plt.plot(losses)\n",
    "    plt.xlabel('Epoch')\n",
    "    plt.ylabel('Loss')\n",
    "    plt.show()\n",
    "          \n",
    "train_model(model, train_loader)"
   ]
  },
  {
   "cell_type": "markdown",
   "metadata": {},
   "source": [
    "**3.** Elegir un usuario al azar, una película que dicho usuario haya puntuado y verificar la predicción del modelo. Comparar con el puntaje real que el usuario asignó a dicha película."
   ]
  },
  {
   "cell_type": "code",
   "execution_count": 51,
   "metadata": {},
   "outputs": [
    {
     "name": "stdout",
     "output_type": "stream",
     "text": [
      "Actual rating: 4.0, Predicted rating: 4.059525966644287\n"
     ]
    }
   ],
   "source": [
    "def test_model(model, train_data, num_users):\n",
    "    random_user = torch.randint(0, num_users, (1,)).item()\n",
    "    user_ratings = train_data[train_data['userId'] == random_user]\n",
    "    random_movie = user_ratings.sample(1)['movieId'].values[0]\n",
    "    model.eval()\n",
    "    with torch.no_grad():\n",
    "        predicted_rating = model(torch.tensor([random_user]), torch.tensor([random_movie])).item()\n",
    "    actual_rating = user_ratings[user_ratings['movieId'] == random_movie]['rating'].values[0]\n",
    "    print(f'Actual rating: {actual_rating}, Predicted rating: {predicted_rating}')\n",
    "    return random_user, user_ratings\n",
    "\n",
    "random_user, user_ratings = test_model(model, train_data, len(user_id_map))"
   ]
  },
  {
   "cell_type": "markdown",
   "metadata": {},
   "source": [
    "**4.** Realizar una recomendación de película para el usuario del punto 3 utilizando los embeddings de usuario o los embeddings de películas. Comprobar si la recomendación es correcta haciendo una predicción del puntuaje con la red neuronal."
   ]
  },
  {
   "cell_type": "code",
   "execution_count": 52,
   "metadata": {},
   "outputs": [
    {
     "name": "stdout",
     "output_type": "stream",
     "text": [
      "Recommended movie: 175, Predicted rating: 3.462156295776367\n"
     ]
    }
   ],
   "source": [
    "def recommend_movie(model, random_user, user_ratings):\n",
    "    user_embedding = model.user_embedding(torch.tensor([random_user]))\n",
    "    movie_scores = torch.mm(user_embedding, model.movie_embedding.weight.t()).squeeze()\n",
    "    rated_movies = user_ratings['movieId'].values\n",
    "    movie_scores[rated_movies] = -np.inf\n",
    "    recommended_movie = movie_scores.argmax().item()\n",
    "    with torch.no_grad():\n",
    "        predicted_rating = model(torch.tensor([random_user]), torch.tensor([recommended_movie])).item()\n",
    "    print(f'Recommended movie: {recommended_movie}, Predicted rating: {predicted_rating}')\n",
    "\n",
    "recommend_movie(model, random_user, user_ratings)"
   ]
  }
 ],
 "metadata": {
  "kernelspec": {
   "display_name": "venv",
   "language": "python",
   "name": "python3"
  },
  "language_info": {
   "codemirror_mode": {
    "name": "ipython",
    "version": 3
   },
   "file_extension": ".py",
   "mimetype": "text/x-python",
   "name": "python",
   "nbconvert_exporter": "python",
   "pygments_lexer": "ipython3",
   "version": "3.12.3"
  }
 },
 "nbformat": 4,
 "nbformat_minor": 2
}
