{
 "cells": [
  {
   "cell_type": "markdown",
   "metadata": {},
   "source": [
    "### **Ejercicio 1**  \n",
    "Dado el grafo de cómputo de la imagen siguiente (imagen: ejercicio1-grafo.jpeg), donde a=1, b=2 y c=3:\n",
    "Realizar el paso forward y calcular Y.  \n",
    "Realizar el paso backward y calcular el backpropagation para a,b y c:  \n",
    "**a.** En forma analítica (dy/dx = 0).  \n",
    "**b.** Utilizando pytorch.  \n",
    "**c.** Comparar los resultados de los puntos anteriores."
   ]
  },
  {
   "cell_type": "code",
   "execution_count": 1,
   "metadata": {},
   "outputs": [],
   "source": [
    "import torch"
   ]
  },
  {
   "cell_type": "markdown",
   "metadata": {},
   "source": [
    "Variables iniciales."
   ]
  },
  {
   "cell_type": "code",
   "execution_count": 2,
   "metadata": {},
   "outputs": [],
   "source": [
    "a = torch.tensor(1., requires_grad=True)\n",
    "b = torch.tensor(2., requires_grad=True)\n",
    "c = torch.tensor(3., requires_grad=True)"
   ]
  },
  {
   "cell_type": "markdown",
   "metadata": {},
   "source": [
    "Pas forward."
   ]
  },
  {
   "cell_type": "code",
   "execution_count": 3,
   "metadata": {},
   "outputs": [],
   "source": [
    "d = a + b\n",
    "e = b - c\n",
    "Y = d * e"
   ]
  },
  {
   "cell_type": "code",
   "execution_count": 4,
   "metadata": {},
   "outputs": [
    {
     "name": "stdout",
     "output_type": "stream",
     "text": [
      "Valor de Y: -3.0\n"
     ]
    }
   ],
   "source": [
    "print(f\"Valor de Y: {Y.item()}\")"
   ]
  },
  {
   "cell_type": "markdown",
   "metadata": {},
   "source": [
    "Paso backward."
   ]
  },
  {
   "cell_type": "code",
   "execution_count": 5,
   "metadata": {},
   "outputs": [],
   "source": [
    "Y.backward()"
   ]
  },
  {
   "cell_type": "markdown",
   "metadata": {},
   "source": [
    "Obtener los Gradientes."
   ]
  },
  {
   "cell_type": "code",
   "execution_count": 7,
   "metadata": {},
   "outputs": [
    {
     "name": "stdout",
     "output_type": "stream",
     "text": [
      "Gradiente de Y con respecto a a: -1.0\n",
      "Gradiente de Y con respecto a b: 2.0\n",
      "Gradiente de Y con respecto a c: -3.0\n"
     ]
    }
   ],
   "source": [
    "grad_a = a.grad\n",
    "grad_b = b.grad\n",
    "grad_c = c.grad\n",
    "\n",
    "print(f\"Gradiente de Y con respecto a a: {grad_a.item()}\")\n",
    "print(f\"Gradiente de Y con respecto a b: {grad_b.item()}\")\n",
    "print(f\"Gradiente de Y con respecto a c: {grad_c.item()}\")"
   ]
  },
  {
   "cell_type": "markdown",
   "metadata": {},
   "source": [
    "Resultados analíticos."
   ]
  },
  {
   "cell_type": "code",
   "execution_count": 8,
   "metadata": {},
   "outputs": [
    {
     "name": "stdout",
     "output_type": "stream",
     "text": [
      "Gradiente analítico de Y con respecto a a: -1.0\n",
      "Gradiente analítico de Y con respecto a b: 2.0\n",
      "Gradiente analítico de Y con respecto a c: -3.0\n"
     ]
    }
   ],
   "source": [
    "analytical_grad_a = b - c\n",
    "analytical_grad_b = (b - c) + (a + b)\n",
    "analytical_grad_c = -(a + b)\n",
    "\n",
    "print(f\"Gradiente analítico de Y con respecto a a: {analytical_grad_a}\")\n",
    "print(f\"Gradiente analítico de Y con respecto a b: {analytical_grad_b}\")\n",
    "print(f\"Gradiente analítico de Y con respecto a c: {analytical_grad_c}\")"
   ]
  },
  {
   "cell_type": "markdown",
   "metadata": {},
   "source": [
    "Comparación de resultados."
   ]
  },
  {
   "cell_type": "code",
   "execution_count": 9,
   "metadata": {},
   "outputs": [
    {
     "name": "stdout",
     "output_type": "stream",
     "text": [
      "Comparación de resultados:\n",
      "a - PyTorch: -1.0, \tAnalítico: -1.0.\n",
      "b - PyTorch: 2.0, \tAnalítico: 2.0.\n",
      "c - PyTorch: -3.0, \tAnalítico: -3.0.\n"
     ]
    }
   ],
   "source": [
    "print(\"Comparación de resultados:\")\n",
    "print(f\"a - PyTorch: {grad_a.item()}, \\tAnalítico: {analytical_grad_a}.\")\n",
    "print(f\"b - PyTorch: {grad_b.item()}, \\tAnalítico: {analytical_grad_b}.\")\n",
    "print(f\"c - PyTorch: {grad_c.item()}, \\tAnalítico: {analytical_grad_c}.\")\n"
   ]
  },
  {
   "cell_type": "markdown",
   "metadata": {},
   "source": [
    "### **Ejercicio 2.**  \n",
    "Se desea construir un sistema de recomendación de películas. Para esto se cuenta con un dataset de las puntuaciones que los usuarios han asignado a las peliculas disponibles.  \n",
    "\n",
    "Link dataset: https://drive.google.com/file/d/1Og9H-8oqb3_Wo_WOakeAuRR_mwr922Ar/view?usp=sharing  \n",
    "\n",
    "Para verificar la factibilidad del proyecto con datos válidos, se decide utilizar solamente las 200 películas con más votos y los usuarios que han puntuado al menos 100 películas.  \n",
    "\n",
    "**1.** Analizar el dataset para utilizar solamente las 200 películas con mayor cantidad de votos y los usuarios que hayan votado al menos 100 películas.  \n",
    "\n",
    "**2.** A partir del dataset del punto 1, construir una única red neuronal que utilice una capa de embeddings para el id de usuario, una capa de embeddings para el id de película y al menos dos capas lineales que sea capaz de predecir el puntaje que cada usuario colocó a cada pelicula.  \n",
    "\n",
    "**3.** Elegir un usuario al azar, una película que dicho usuario haya puntuado y verificar la predicción del modelo. Comparar con el puntaje real que el usuario asignó a dicha película.  \n",
    "\n",
    "**4.** Realizar una recomendación de película para el usuario del punto 3 utilizando los embeddings de usuario o los embeddings de películas. Comprobar si la recomendación es correcta haciendo una predicción del puntuaje con la red neuronal.  "
   ]
  },
  {
   "cell_type": "code",
   "execution_count": 1,
   "metadata": {},
   "outputs": [],
   "source": [
    "import pandas as pd\n",
    "import torch\n",
    "import torch.nn as nn\n",
    "import torch.optim as optim\n",
    "from sklearn.model_selection import train_test_split"
   ]
  },
  {
   "cell_type": "code",
   "execution_count": 23,
   "metadata": {},
   "outputs": [],
   "source": [
    "# Descargar el dataset.\n",
    "# !wget -O ratings.csv 'https://drive.google.com/uc?export=download&id=1Og9H-8oqb3_Wo_WOakeAuRR_mwr922Ar'"
   ]
  },
  {
   "cell_type": "code",
   "execution_count": 2,
   "metadata": {},
   "outputs": [],
   "source": [
    "ratings = pd.read_csv('./ratings.csv')"
   ]
  },
  {
   "cell_type": "markdown",
   "metadata": {},
   "source": [
    "**1.** Filtrar las 200 películas con más votos y los usuarios que hayan votado al menos 100 películas."
   ]
  },
  {
   "cell_type": "code",
   "execution_count": 3,
   "metadata": {},
   "outputs": [],
   "source": [
    "movie_counts = ratings['movieId'].value_counts()\n",
    "top_200_movies = movie_counts.head(200).index\n",
    "filtered_ratings = ratings[ratings['movieId'].isin(top_200_movies)]\n",
    "\n",
    "user_counts = filtered_ratings['userId'].value_counts()\n",
    "active_users = user_counts[user_counts >= 100].index\n",
    "filtered_ratings = filtered_ratings[filtered_ratings['userId'].isin(active_users)]"
   ]
  },
  {
   "cell_type": "markdown",
   "metadata": {},
   "source": [
    "Codificar usuarios y películas."
   ]
  },
  {
   "cell_type": "code",
   "execution_count": 6,
   "metadata": {},
   "outputs": [],
   "source": [
    "user_id_map = {id: idx for idx, id in enumerate(filtered_ratings['userId'].unique())}\n",
    "movie_id_map = {id: idx for idx, id in enumerate(filtered_ratings['movieId'].unique())}\n",
    "\n",
    "filtered_ratings['userId'] = filtered_ratings['userId'].map(user_id_map)\n",
    "filtered_ratings['movieId'] = filtered_ratings['movieId'].map(movie_id_map)"
   ]
  },
  {
   "cell_type": "markdown",
   "metadata": {},
   "source": [
    "**2.** Construcción de la red neuronal."
   ]
  },
  {
   "cell_type": "code",
   "execution_count": 40,
   "metadata": {},
   "outputs": [],
   "source": [
    "# class RecommenderNet(nn.Module):\n",
    "#     def __init__(self, num_users, num_movies, embedding_size=50):\n",
    "#         super(RecommenderNet, self).__init__()\n",
    "#         self.user_embedding = nn.Embedding(num_users, embedding_size)\n",
    "#         self.movie_embedding = nn.Embedding(num_movies, embedding_size)\n",
    "#         self.fc1 = nn.Linear(embedding_size * 2, 128)\n",
    "#         self.fc2 = nn.Linear(128, 64)\n",
    "#         self.fc3 = nn.Linear(64, 1)\n",
    "\n",
    "#     def forward(self, user_id, movie_id):\n",
    "#         user_embedding = self.user_embedding(user_id)\n",
    "#         movie_embedding = self.movie_embedding(movie_id)\n",
    "#         x = torch.cat([user_embedding, movie_embedding], dim=1)\n",
    "#         x = torch.relu(self.fc1(x))\n",
    "#         x = torch.relu(self.fc2(x))\n",
    "#         x = self.fc3(x)\n",
    "#         return x"
   ]
  },
  {
   "cell_type": "code",
   "execution_count": 4,
   "metadata": {},
   "outputs": [],
   "source": [
    "import torch.nn.functional as F\n",
    "from torch.utils.data import TensorDataset, DataLoader\n",
    "\n",
    "# Definir la red neuronal\n",
    "class ComplexRecommenderNet(nn.Module):\n",
    "    def __init__(self, num_users, num_movies, embedding_size):\n",
    "        super().__init__()\n",
    "        self.user_embedding = nn.Embedding(num_users, embedding_size)\n",
    "        self.movie_embedding = nn.Embedding(num_movies, embedding_size)\n",
    "        self.fc1 = nn.Linear(embedding_size * 2, 128)\n",
    "        self.fc2 = nn.Linear(128, 64)\n",
    "        self.output = nn.Linear(64, 1)\n",
    "    \n",
    "    def forward(self, user_ids, movie_ids):\n",
    "        user_embedding = self.user_embedding(user_ids)\n",
    "        movie_embedding = self.movie_embedding(movie_ids)\n",
    "        x = torch.cat([user_embedding, movie_embedding], dim=1)\n",
    "        x = F.relu(self.fc1(x))\n",
    "        x = F.relu(self.fc2(x))\n",
    "        return self.output(x)"
   ]
  },
  {
   "cell_type": "code",
   "execution_count": 7,
   "metadata": {},
   "outputs": [],
   "source": [
    "# Crear el modelo\n",
    "num_users = len(user_id_map)\n",
    "num_movies = len(movie_id_map)\n",
    "embedding_size = 50\n",
    "model = ComplexRecommenderNet(num_users, num_movies, embedding_size)"
   ]
  },
  {
   "cell_type": "code",
   "execution_count": 8,
   "metadata": {},
   "outputs": [],
   "source": [
    "# Crear el conjunto de datos y el cargador de datos\n",
    "train_data, test_data = train_test_split(filtered_ratings, test_size=0.2, random_state=42)\n",
    "train_dataset = TensorDataset(torch.tensor(train_data['userId'].values, dtype=torch.int64), \n",
    "                              torch.tensor(train_data['movieId'].values, dtype=torch.int64), \n",
    "                              torch.tensor(train_data['rating'].values, dtype=torch.float32))\n",
    "train_loader = DataLoader(train_dataset, batch_size=256, shuffle=True)"
   ]
  },
  {
   "cell_type": "code",
   "execution_count": 9,
   "metadata": {},
   "outputs": [],
   "source": [
    "# Crear el optimizador y la función de pérdida\n",
    "optimizer = optim.RMSprop(model.parameters(), lr=0.001)\n",
    "loss_fn = nn.MSELoss()"
   ]
  },
  {
   "cell_type": "code",
   "execution_count": 17,
   "metadata": {},
   "outputs": [],
   "source": [
    "# Entrenar el modelo\n",
    "epochs = 50\n",
    "for epoch in range(epochs):\n",
    "    model.train()\n",
    "    for user_ids, movie_ids, ratings in train_loader:\n",
    "        optimizer.zero_grad()\n",
    "        outputs = model(user_ids, movie_ids).squeeze()\n",
    "        loss = loss_fn(outputs, ratings)\n",
    "        loss.backward()\n",
    "        optimizer.step()"
   ]
  },
  {
   "cell_type": "code",
   "execution_count": 35,
   "metadata": {},
   "outputs": [
    {
     "name": "stdout",
     "output_type": "stream",
     "text": [
      "Actual rating: 3.0, Predicted rating: 2.720954418182373\n"
     ]
    }
   ],
   "source": [
    "# Elegir un usuario al azar\n",
    "random_user = torch.randint(0, num_users, (1,)).item()\n",
    "\n",
    "# Elegir una película que el usuario haya calificado\n",
    "user_ratings = train_data[train_data['userId'] == random_user]\n",
    "random_movie = user_ratings.sample(1)['movieId'].values[0]\n",
    "\n",
    "# Verificar la predicción del modelo\n",
    "model.eval()\n",
    "with torch.no_grad():\n",
    "    predicted_rating = model(torch.tensor([random_user]), torch.tensor([random_movie])).item()\n",
    "\n",
    "# Obtener el puntaje real que el usuario asignó a la película\n",
    "actual_rating = user_ratings[user_ratings['movieId'] == random_movie]['rating'].values[0]\n",
    "\n",
    "print(f'Actual rating: {actual_rating}, Predicted rating: {predicted_rating}')"
   ]
  },
  {
   "cell_type": "code",
   "execution_count": 37,
   "metadata": {},
   "outputs": [
    {
     "name": "stdout",
     "output_type": "stream",
     "text": [
      "Recommended movie: 177, Predicted rating: 3.14564847946167\n"
     ]
    }
   ],
   "source": [
    "import numpy as np\n",
    "\n",
    "# Calcular el producto punto entre el embedding del usuario y todos los embeddings de las películas\n",
    "user_embedding = model.user_embedding(torch.tensor([random_user]))\n",
    "movie_scores = torch.mm(user_embedding, model.movie_embedding.weight.t()).squeeze()\n",
    "\n",
    "# Obtener las películas que el usuario ya ha calificado\n",
    "rated_movies = train_data[train_data['userId'] == random_user]['movieId'].values\n",
    "\n",
    "# Eliminar las películas ya calificadas de las recomendaciones\n",
    "movie_scores[rated_movies] = -np.inf\n",
    "\n",
    "# Elegir la película con el mayor producto punto\n",
    "recommended_movie = movie_scores.argmax().item()\n",
    "\n",
    "# Comprobar si la recomendación es correcta haciendo una predicción del puntuaje con la red neuronal\n",
    "with torch.no_grad():\n",
    "    predicted_rating = model(torch.tensor([random_user]), torch.tensor([recommended_movie])).item()\n",
    "\n",
    "print(f'Recommended movie: {recommended_movie}, Predicted rating: {predicted_rating}')"
   ]
  },
  {
   "cell_type": "code",
   "execution_count": null,
   "metadata": {},
   "outputs": [],
   "source": []
  },
  {
   "cell_type": "code",
   "execution_count": null,
   "metadata": {},
   "outputs": [],
   "source": []
  },
  {
   "cell_type": "code",
   "execution_count": 14,
   "metadata": {},
   "outputs": [],
   "source": [
    "num_users = len(user_id_map)\n",
    "num_movies = len(movie_id_map)"
   ]
  },
  {
   "cell_type": "code",
   "execution_count": null,
   "metadata": {},
   "outputs": [],
   "source": [
    "# model = RecommenderNet(num_users, num_movies)"
   ]
  },
  {
   "cell_type": "code",
   "execution_count": 15,
   "metadata": {},
   "outputs": [],
   "source": [
    "loss_fn = nn.MSELoss()"
   ]
  },
  {
   "cell_type": "code",
   "execution_count": 41,
   "metadata": {},
   "outputs": [],
   "source": [
    "# optimizer = optim.Adam(model.parameters(), lr=0.001)"
   ]
  },
  {
   "cell_type": "markdown",
   "metadata": {},
   "source": [
    "Preparar los datos."
   ]
  },
  {
   "cell_type": "code",
   "execution_count": 42,
   "metadata": {},
   "outputs": [],
   "source": [
    "train_data, test_data = train_test_split(filtered_ratings, test_size=0.2, random_state=42)\n",
    "\n",
    "train_user_ids = torch.tensor(train_data['userId'].values, dtype=torch.int64)\n",
    "train_movie_ids = torch.tensor(train_data['movieId'].values, dtype=torch.int64)\n",
    "train_ratings = torch.tensor(train_data['rating'].values, dtype=torch.float32)\n",
    "\n",
    "test_user_ids = torch.tensor(test_data['userId'].values, dtype=torch.int64)\n",
    "test_movie_ids = torch.tensor(test_data['movieId'].values, dtype=torch.int64)\n",
    "test_ratings = torch.tensor(test_data['rating'].values, dtype=torch.float32)"
   ]
  },
  {
   "cell_type": "code",
   "execution_count": 16,
   "metadata": {},
   "outputs": [],
   "source": [
    "# from sklearn.model_selection import train_test_split\n",
    "\n",
    "# # Primero dividimos los datos en conjuntos de entrenamiento y prueba\n",
    "# train_data, test_data = train_test_split(filtered_ratings, test_size=0.2, random_state=42)\n",
    "\n",
    "# # Luego dividimos el conjunto de entrenamiento en conjuntos de entrenamiento y validación\n",
    "# train_data, valid_data = train_test_split(train_data, test_size=0.2, random_state=42)\n",
    "\n",
    "# # Ahora creamos los tensores para el conjunto de entrenamiento\n",
    "# train_user_ids = torch.tensor(train_data['userId'].values, dtype=torch.int64)\n",
    "# train_movie_ids = torch.tensor(train_data['movieId'].values, dtype=torch.int64)\n",
    "# train_ratings = torch.tensor(train_data['rating'].values, dtype=torch.float32)\n",
    "\n",
    "# # Creamos los tensores para el conjunto de validación\n",
    "# valid_user_ids = torch.tensor(valid_data['userId'].values, dtype=torch.int64)\n",
    "# valid_movie_ids = torch.tensor(valid_data['movieId'].values, dtype=torch.int64)\n",
    "# valid_ratings = torch.tensor(valid_data['rating'].values, dtype=torch.float32)\n",
    "\n",
    "# # Finalmente, creamos los tensores para el conjunto de prueba\n",
    "# test_user_ids = torch.tensor(test_data['userId'].values, dtype=torch.int64)\n",
    "# test_movie_ids = torch.tensor(test_data['movieId'].values, dtype=torch.int64)\n",
    "# test_ratings = torch.tensor(test_data['rating'].values, dtype=torch.float32)"
   ]
  },
  {
   "cell_type": "markdown",
   "metadata": {},
   "source": [
    "Entrenamiento del modelo."
   ]
  },
  {
   "cell_type": "code",
   "execution_count": 25,
   "metadata": {},
   "outputs": [],
   "source": [
    "# epochs = 50\n",
    "# embedding_size = 100\n",
    "\n",
    "# optimizer = optim.Adam(model.parameters(), lr=0.0005)\n",
    "# model = RecommenderNet(num_users, num_movies, embedding_size)\n",
    "\n",
    "train_data, val_data = train_test_split(train_data, test_size=0.2, random_state=42)\n",
    "\n",
    "# optimizer = optim.Adam(model.parameters(), lr=0.0005, weight_decay=0.01)\n",
    "\n",
    "# for epoch in range(epochs):\n",
    "#     model.train()\n",
    "#     optimizer.zero_grad()\n",
    "#     outputs = model(train_user_ids, train_movie_ids).squeeze()\n",
    "#     loss = loss_fn(outputs, train_ratings)\n",
    "#     loss.backward()\n",
    "#     optimizer.step()\n",
    "#     print(f'Epoch {epoch+1}/{epochs}, Loss: {loss.item()}')"
   ]
  },
  {
   "cell_type": "markdown",
   "metadata": {},
   "source": [
    "**3.** Verificación de la predicción."
   ]
  },
  {
   "cell_type": "code",
   "execution_count": 63,
   "metadata": {},
   "outputs": [
    {
     "name": "stdout",
     "output_type": "stream",
     "text": [
      "Actual rating: 4.0, Predicted rating: 2.8576090335845947\n"
     ]
    }
   ],
   "source": [
    "# import random\n",
    "\n",
    "# model.eval()\n",
    "# with torch.no_grad():\n",
    "#     random_user = random.choice(test_data['userId'].unique())\n",
    "#     user_data = test_data[test_data['userId'] == random_user]\n",
    "#     random_movie = user_data.sample(1)\n",
    "#     random_movie_id = torch.tensor(random_movie['movieId'].values[0], dtype=torch.int64)\n",
    "#     actual_rating = random_movie['rating'].values[0]\n",
    "\n",
    "#     user_tensor = torch.tensor([random_user], dtype=torch.int64)\n",
    "#     movie_tensor = torch.tensor([random_movie_id])\n",
    "    \n",
    "#     predicted_rating = model(user_tensor, movie_tensor).item()\n",
    "#     print(f'Actual rating: {actual_rating}, Predicted rating: {predicted_rating}')"
   ]
  },
  {
   "cell_type": "markdown",
   "metadata": {},
   "source": [
    "**4.** Realización de una recomendación."
   ]
  },
  {
   "cell_type": "code",
   "execution_count": 45,
   "metadata": {},
   "outputs": [
    {
     "name": "stdout",
     "output_type": "stream",
     "text": [
      "Recommended movie ID: 68 has not been rated by the user.\n"
     ]
    }
   ],
   "source": [
    "# with torch.no_grad():\n",
    "#     user_embedding = model.user_embedding(torch.tensor([random_user], dtype=torch.int64))\n",
    "#     movie_embeddings = model.movie_embedding.weight\n",
    "#     scores = torch.matmul(user_embedding, movie_embeddings.t()).squeeze()\n",
    "#     recommended_movie_id = torch.argmax(scores).item()\n",
    "\n",
    "#     recommended_movie_actual_rating = test_data[(test_data['userId'] == random_user) & (test_data['movieId'] == recommended_movie_id)]['rating']\n",
    "    \n",
    "#     if not recommended_movie_actual_rating.empty:\n",
    "#         recommended_movie_actual_rating = recommended_movie_actual_rating.values[0]\n",
    "#         print(f'Recommended movie ID: {recommended_movie_id}, Actual rating: {recommended_movie_actual_rating}')\n",
    "#     else:\n",
    "#         print(f'Recommended movie ID: {recommended_movie_id} has not been rated by the user.')\n"
   ]
  },
  {
   "cell_type": "markdown",
   "metadata": {},
   "source": []
  },
  {
   "cell_type": "markdown",
   "metadata": {},
   "source": []
  },
  {
   "cell_type": "code",
   "execution_count": 45,
   "metadata": {},
   "outputs": [
    {
     "ename": "IndexError",
     "evalue": "too many indices for tensor of dimension 1",
     "output_type": "error",
     "traceback": [
      "\u001b[1;31m---------------------------------------------------------------------------\u001b[0m",
      "\u001b[1;31mIndexError\u001b[0m                                Traceback (most recent call last)",
      "Cell \u001b[1;32mIn[45], line 25\u001b[0m\n\u001b[0;32m      6\u001b[0m \u001b[38;5;28;01mimport\u001b[39;00m \u001b[38;5;21;01mnumpy\u001b[39;00m \u001b[38;5;28;01mas\u001b[39;00m \u001b[38;5;21;01mnp\u001b[39;00m\n\u001b[0;32m      8\u001b[0m \u001b[38;5;66;03m# # 1. Analizar el dataset\u001b[39;00m\n\u001b[0;32m      9\u001b[0m \u001b[38;5;66;03m# data = pd.read_csv('ratings.csv')\u001b[39;00m\n\u001b[0;32m     10\u001b[0m \n\u001b[1;32m   (...)\u001b[0m\n\u001b[0;32m     22\u001b[0m \u001b[38;5;66;03m# user2user_encoded = {x: i for i, x in enumerate(user_ids)}\u001b[39;00m\n\u001b[0;32m     23\u001b[0m \u001b[38;5;66;03m# user_encoded2user = {i: x for i, x in enumerate(user_ids)}\u001b[39;00m\n\u001b[1;32m---> 25\u001b[0m movie_ids \u001b[38;5;241m=\u001b[39m \u001b[43mratings\u001b[49m\u001b[43m[\u001b[49m\u001b[38;5;124;43m'\u001b[39;49m\u001b[38;5;124;43mmovieId\u001b[39;49m\u001b[38;5;124;43m'\u001b[39;49m\u001b[43m]\u001b[49m\u001b[38;5;241m.\u001b[39munique()\n\u001b[0;32m     26\u001b[0m \u001b[38;5;66;03m# movie2movie_encoded = {x: i for i, x in enumerate(movie_ids)}\u001b[39;00m\n\u001b[0;32m     27\u001b[0m movie_encoded2movie \u001b[38;5;241m=\u001b[39m {i: x \u001b[38;5;28;01mfor\u001b[39;00m i, x \u001b[38;5;129;01min\u001b[39;00m \u001b[38;5;28menumerate\u001b[39m(movie_ids)}\n",
      "\u001b[1;31mIndexError\u001b[0m: too many indices for tensor of dimension 1"
     ]
    }
   ],
   "source": [
    "# import pandas as pd\n",
    "# import torch\n",
    "# from torch import nn, optim\n",
    "# from torch.utils.data import TensorDataset, DataLoader\n",
    "# import torch.nn.functional as F\n",
    "# import numpy as np\n",
    "\n",
    "# # # 1. Analizar el dataset\n",
    "# # data = pd.read_csv('ratings.csv')\n",
    "\n",
    "# # # Filtrar las 200 películas con más votos\n",
    "# # top_movies = data['movieId'].value_counts()[:200].index\n",
    "# # data = data[data['movieId'].isin(top_movies)]\n",
    "\n",
    "# # # Filtrar los usuarios que han puntuado al menos 100 películas\n",
    "# # active_users = data['userId'].value_counts()\n",
    "# # active_users = active_users[active_users >= 100].index\n",
    "# # data = data[data['userId'].isin(active_users)]\n",
    "\n",
    "# # # Mapear los ID de usuario y película a valores enteros consecutivos\n",
    "# # user_ids = data['userId'].unique()\n",
    "# # user2user_encoded = {x: i for i, x in enumerate(user_ids)}\n",
    "# # user_encoded2user = {i: x for i, x in enumerate(user_ids)}\n",
    "\n",
    "# movie_ids = ratings['movieId'].unique()\n",
    "# # movie2movie_encoded = {x: i for i, x in enumerate(movie_ids)}\n",
    "# movie_encoded2movie = {i: x for i, x in enumerate(movie_ids)}\n",
    "\n",
    "# # data['user'] = data['userId'].map(user2user_encoded)\n",
    "# # data['movie'] = data['movieId'].map(movie2movie_encoded)\n",
    "\n",
    "# # num_users = len(user2user_encoded)\n",
    "# # num_movies = len(movie_encoded2movie)\n",
    "# embedding_size = 50\n",
    "\n",
    "# # 2. Construir la red neuronal\n",
    "# class ComplexRecommenderNet(nn.Module):\n",
    "#     def __init__(self, num_users, num_movies, embedding_size):\n",
    "#         super().__init__()\n",
    "#         self.user_embedding = nn.Embedding(num_users, embedding_size)\n",
    "#         self.movie_embedding = nn.Embedding(num_movies, embedding_size)\n",
    "#         self.fc1 = nn.Linear(embedding_size * 2, 128)\n",
    "#         self.fc2 = nn.Linear(128, 64)\n",
    "#         self.output = nn.Linear(64, 1)\n",
    "    \n",
    "#     def forward(self, user_ids, movie_ids):\n",
    "#         user_embedding = self.user_embedding(user_ids)\n",
    "#         movie_embedding = self.movie_embedding(movie_ids)\n",
    "#         x = torch.cat([user_embedding, movie_embedding], dim=1)\n",
    "#         x = F.relu(self.fc1(x))\n",
    "#         x = F.relu(self.fc2(x))\n",
    "#         return self.output(x)\n",
    "\n",
    "# model = ComplexRecommenderNet(num_users, num_movies, embedding_size)\n",
    "\n",
    "# # 3. Entrenar el modelo\n",
    "# optimizer = optim.RMSprop(model.parameters(), lr=0.001)\n",
    "# loss_fn = nn.MSELoss()\n",
    "\n",
    "# epochs = 50\n",
    "# batch_size = 256\n",
    "# train_dataset = TensorDataset(torch.tensor(ratings['user'].values, dtype=torch.int64), \n",
    "#                               torch.tensor(ratings['movie'].values, dtype=torch.int64), \n",
    "#                               torch.tensor(ratings['rating'].values, dtype=torch.float32))\n",
    "# train_loader = DataLoader(train_dataset, batch_size=batch_size, shuffle=True)\n",
    "\n",
    "# scheduler = optim.lr_scheduler.StepLR(optimizer, step_size=10, gamma=0.1)\n",
    "\n",
    "# for epoch in range(epochs):\n",
    "#     model.train()\n",
    "#     for user_ids, movie_ids, ratings in train_loader:\n",
    "#         optimizer.zero_grad()\n",
    "#         outputs = model(user_ids, movie_ids).squeeze()\n",
    "#         loss = loss_fn(outputs, ratings)\n",
    "#         loss.backward()\n",
    "#         optimizer.step()\n",
    "#     scheduler.step()"
   ]
  },
  {
   "cell_type": "code",
   "execution_count": 44,
   "metadata": {},
   "outputs": [
    {
     "name": "stdout",
     "output_type": "stream",
     "text": [
      "The user has not rated the movie. Predicted rating: 4.160890102386475\n"
     ]
    }
   ],
   "source": [
    "# 4. Realizar una recomendación\n",
    "random_user = np.random.choice(ratings['user'].unique())\n",
    "random_movie = np.random.choice(ratings['movie'].unique())\n",
    "with torch.no_grad():\n",
    "    predicted_rating = model(torch.tensor([random_user], dtype=torch.int64), torch.tensor([random_movie], dtype=torch.int64)).item()\n",
    "\n",
    "    actual_rating = ratings[(ratings['user'] == random_user) & (ratings['movie'] == random_movie)]['rating']\n",
    "    if not actual_rating.empty:\n",
    "        actual_rating = actual_rating.values[0]\n",
    "        print(f'Actual rating: {actual_rating}, Predicted rating: {predicted_rating}')\n",
    "    else:\n",
    "        print(f'The user has not rated the movie. Predicted rating: {predicted_rating}')"
   ]
  },
  {
   "cell_type": "code",
   "execution_count": 104,
   "metadata": {},
   "outputs": [
    {
     "name": "stdout",
     "output_type": "stream",
     "text": [
      "Recommended movie: 44191, Predicted rating: 4.263331890106201\n"
     ]
    }
   ],
   "source": [
    "# 4. Realizar una recomendación\n",
    "# random_user = np.random.choice(data['user'].unique())\n",
    "\n",
    "# Obtén el embedding del usuario\n",
    "user_embedding = model.user_embedding(torch.tensor([random_user], dtype=torch.int64))\n",
    "\n",
    "# Calcula el producto punto entre el embedding del usuario y todos los embeddings de las películas\n",
    "movie_scores = torch.mm(user_embedding, model.movie_embedding.weight.t()).squeeze()\n",
    "\n",
    "# Obtiene las películas que el usuario ya ha calificado\n",
    "rated_movies = ratings[ratings['user'] == random_user]['movie'].values\n",
    "\n",
    "# Elimina las películas ya calificadas de las recomendaciones\n",
    "movie_scores[rated_movies] = -np.inf\n",
    "\n",
    "# Elige la película con el mayor producto punto\n",
    "recommended_movie = movie_scores.argmax().item()\n",
    "\n",
    "# Comprueba si la recomendación es correcta haciendo una predicción del puntuaje con la red neuronal\n",
    "with torch.no_grad():\n",
    "    predicted_rating = model(torch.tensor([random_user], dtype=torch.int64), torch.tensor([recommended_movie], dtype=torch.int64)).item()\n",
    "\n",
    "print(f'Recommended movie: {movie_encoded2movie[recommended_movie]}, Predicted rating: {predicted_rating}')"
   ]
  },
  {
   "cell_type": "markdown",
   "metadata": {},
   "source": []
  },
  {
   "cell_type": "code",
   "execution_count": 17,
   "metadata": {},
   "outputs": [],
   "source": []
  },
  {
   "cell_type": "code",
   "execution_count": 64,
   "metadata": {},
   "outputs": [
    {
     "name": "stdout",
     "output_type": "stream",
     "text": [
      "Epoch 0, Train Loss: 1.3123300075531006, Valid Loss: 14.206058661142984\n",
      "Epoch 1, Train Loss: 14.449224472045898, Valid Loss: 14.157542705535889\n",
      "Epoch 2, Train Loss: 14.082127571105957, Valid Loss: 14.244159857432047\n",
      "Epoch 3, Train Loss: 14.737516403198242, Valid Loss: 14.055394331614176\n",
      "Epoch 4, Train Loss: 13.309220314025879, Valid Loss: 14.19288428624471\n",
      "Epoch 5, Train Loss: 14.349536895751953, Valid Loss: 14.147050221761068\n",
      "Epoch 6, Train Loss: 14.00273609161377, Valid Loss: 14.254459222157797\n",
      "Epoch 7, Train Loss: 14.815444946289062, Valid Loss: 14.218339125315348\n",
      "Epoch 8, Train Loss: 14.542141914367676, Valid Loss: 14.183543682098389\n",
      "Epoch 9, Train Loss: 14.278863906860352, Valid Loss: 14.1569717725118\n",
      "Epoch 10, Train Loss: 14.077807426452637, Valid Loss: 14.32325267791748\n",
      "Epoch 11, Train Loss: 15.335970878601074, Valid Loss: 14.096497058868408\n",
      "Epoch 12, Train Loss: 13.620226860046387, Valid Loss: 14.236373583475748\n",
      "Epoch 13, Train Loss: 14.678601264953613, Valid Loss: 14.095616181691488\n",
      "Epoch 14, Train Loss: 13.61355972290039, Valid Loss: 14.18693463007609\n",
      "Epoch 15, Train Loss: 14.304520606994629, Valid Loss: 14.092183272043863\n",
      "Epoch 16, Train Loss: 13.58758544921875, Valid Loss: 14.128389835357666\n",
      "Epoch 17, Train Loss: 13.861543655395508, Valid Loss: 14.256731351216635\n",
      "Epoch 18, Train Loss: 14.832636833190918, Valid Loss: 14.217527548472086\n",
      "Epoch 19, Train Loss: 14.536005020141602, Valid Loss: 14.068793614705404\n",
      "Epoch 20, Train Loss: 13.410606384277344, Valid Loss: 14.138424396514893\n",
      "Epoch 21, Train Loss: 13.937470436096191, Valid Loss: 14.149723370869955\n",
      "Epoch 22, Train Loss: 14.02295970916748, Valid Loss: 14.069091955820719\n",
      "Epoch 23, Train Loss: 13.412862777709961, Valid Loss: 14.092745304107666\n",
      "Epoch 24, Train Loss: 13.591835021972656, Valid Loss: 14.352459271748861\n",
      "Epoch 25, Train Loss: 15.556963920593262, Valid Loss: 14.008292516072592\n",
      "Epoch 26, Train Loss: 12.952827453613281, Valid Loss: 14.131324927012125\n",
      "Epoch 27, Train Loss: 13.883749008178711, Valid Loss: 14.018290837605795\n",
      "Epoch 28, Train Loss: 13.028477668762207, Valid Loss: 14.18523104985555\n",
      "Epoch 29, Train Loss: 14.291632652282715, Valid Loss: 13.929948012034098\n",
      "Epoch 30, Train Loss: 12.360030174255371, Valid Loss: 14.365477720896402\n",
      "Epoch 31, Train Loss: 15.655467987060547, Valid Loss: 13.903701464335123\n",
      "Epoch 32, Train Loss: 12.161436080932617, Valid Loss: 14.249626795450846\n",
      "Epoch 33, Train Loss: 14.77888298034668, Valid Loss: 14.196502844492594\n",
      "Epoch 34, Train Loss: 14.376917839050293, Valid Loss: 13.980078856150309\n",
      "Epoch 35, Train Loss: 12.73934555053711, Valid Loss: 14.240985234578451\n",
      "Epoch 36, Train Loss: 14.713493347167969, Valid Loss: 14.120563507080078\n",
      "Epoch 37, Train Loss: 13.802325248718262, Valid Loss: 14.166684945424398\n",
      "Epoch 38, Train Loss: 14.151300430297852, Valid Loss: 14.006360371907553\n",
      "Epoch 39, Train Loss: 12.93820571899414, Valid Loss: 14.236940701802572\n",
      "Epoch 40, Train Loss: 14.682889938354492, Valid Loss: 14.144175052642822\n",
      "Epoch 41, Train Loss: 13.98098087310791, Valid Loss: 14.048489888509115\n",
      "Epoch 42, Train Loss: 13.256979942321777, Valid Loss: 13.946728706359863\n",
      "Epoch 43, Train Loss: 12.487004280090332, Valid Loss: 14.095641454060873\n",
      "Epoch 44, Train Loss: 13.613753318786621, Valid Loss: 14.309343655904135\n",
      "Epoch 45, Train Loss: 15.230732917785645, Valid Loss: 14.146794001261393\n",
      "Epoch 46, Train Loss: 14.000801086425781, Valid Loss: 14.227792104085287\n",
      "Epoch 47, Train Loss: 14.613667488098145, Valid Loss: 14.132085482279459\n",
      "Epoch 48, Train Loss: 13.889504432678223, Valid Loss: 14.21422259012858\n",
      "Epoch 49, Train Loss: 14.510997772216797, Valid Loss: 14.055688699086508\n",
      "Epoch 50, Train Loss: 13.311446189880371, Valid Loss: 14.091703255971273\n",
      "Epoch 51, Train Loss: 13.583956718444824, Valid Loss: 14.11249303817749\n",
      "Epoch 52, Train Loss: 13.74126148223877, Valid Loss: 14.278382142384848\n",
      "Epoch 53, Train Loss: 14.996460914611816, Valid Loss: 14.14259703954061\n",
      "Epoch 54, Train Loss: 13.969037055969238, Valid Loss: 14.220283508300781\n",
      "Epoch 55, Train Loss: 14.556855201721191, Valid Loss: 14.008282661437988\n",
      "Epoch 56, Train Loss: 12.952749252319336, Valid Loss: 14.367101033528646\n",
      "Epoch 57, Train Loss: 15.66775131225586, Valid Loss: 14.096193154652914\n",
      "Epoch 58, Train Loss: 13.617924690246582, Valid Loss: 14.266989707946777\n",
      "Epoch 59, Train Loss: 14.910255432128906, Valid Loss: 14.070052782694498\n",
      "Epoch 60, Train Loss: 13.420133590698242, Valid Loss: 14.11566654841105\n",
      "Epoch 61, Train Loss: 13.76527214050293, Valid Loss: 14.317761898040771\n",
      "Epoch 62, Train Loss: 15.294426918029785, Valid Loss: 14.206047693888346\n",
      "Epoch 63, Train Loss: 14.449140548706055, Valid Loss: 14.054155508677164\n",
      "Epoch 64, Train Loss: 13.299847602844238, Valid Loss: 14.133555889129639\n",
      "Epoch 65, Train Loss: 13.900628089904785, Valid Loss: 14.251813411712646\n",
      "Epoch 66, Train Loss: 14.795427322387695, Valid Loss: 14.220224698384603\n",
      "Epoch 67, Train Loss: 14.556412696838379, Valid Loss: 13.915878295898438\n",
      "Epoch 68, Train Loss: 12.253569602966309, Valid Loss: 14.025218804677328\n",
      "Epoch 69, Train Loss: 13.080897331237793, Valid Loss: 14.0253267288208\n",
      "Epoch 70, Train Loss: 13.081713676452637, Valid Loss: 14.333790938059488\n",
      "Epoch 71, Train Loss: 15.415712356567383, Valid Loss: 14.182865937550863\n",
      "Epoch 72, Train Loss: 14.273736953735352, Valid Loss: 14.34590768814087\n",
      "Epoch 73, Train Loss: 15.507392883300781, Valid Loss: 14.267660776774088\n",
      "Epoch 74, Train Loss: 14.915331840515137, Valid Loss: 14.270423571268717\n",
      "Epoch 75, Train Loss: 14.936240196228027, Valid Loss: 13.93988593419393\n",
      "Epoch 76, Train Loss: 12.435226440429688, Valid Loss: 14.185171604156494\n",
      "Epoch 77, Train Loss: 14.291178703308105, Valid Loss: 14.047790686289469\n",
      "Epoch 78, Train Loss: 13.251687049865723, Valid Loss: 14.130841573079428\n",
      "Epoch 79, Train Loss: 13.88009262084961, Valid Loss: 14.340665976206461\n",
      "Epoch 80, Train Loss: 15.467730522155762, Valid Loss: 14.269807815551758\n",
      "Epoch 81, Train Loss: 14.931578636169434, Valid Loss: 13.967116832733154\n",
      "Epoch 82, Train Loss: 12.64126968383789, Valid Loss: 14.112175782521566\n",
      "Epoch 83, Train Loss: 13.738860130310059, Valid Loss: 14.197120507558187\n",
      "Epoch 84, Train Loss: 14.381591796875, Valid Loss: 14.156763235727945\n",
      "Epoch 85, Train Loss: 14.076231956481934, Valid Loss: 14.226831118265787\n",
      "Epoch 86, Train Loss: 14.60639762878418, Valid Loss: 14.286649227142334\n",
      "Epoch 87, Train Loss: 15.059011459350586, Valid Loss: 14.18481715520223\n",
      "Epoch 88, Train Loss: 14.288496971130371, Valid Loss: 14.045156955718994\n",
      "Epoch 89, Train Loss: 13.23176097869873, Valid Loss: 14.095980644226074\n",
      "Epoch 90, Train Loss: 13.616315841674805, Valid Loss: 14.07469622294108\n",
      "Epoch 91, Train Loss: 13.45527172088623, Valid Loss: 14.045454819997152\n",
      "Epoch 92, Train Loss: 13.234013557434082, Valid Loss: 14.14947764078776\n",
      "Epoch 93, Train Loss: 14.021101951599121, Valid Loss: 14.105738162994385\n",
      "Epoch 94, Train Loss: 13.690145492553711, Valid Loss: 14.108237266540527\n",
      "Epoch 95, Train Loss: 13.709057807922363, Valid Loss: 14.092202504475912\n",
      "Epoch 96, Train Loss: 13.587727546691895, Valid Loss: 14.306699593861898\n",
      "Epoch 97, Train Loss: 15.210725784301758, Valid Loss: 14.111614545186361\n",
      "Epoch 98, Train Loss: 13.734612464904785, Valid Loss: 14.062169869740805\n",
      "Epoch 99, Train Loss: 13.360486030578613, Valid Loss: 13.968596776326498\n"
     ]
    },
    {
     "data": {
      "image/png": "[encoded data removed]",
      "text/plain": [
       "<Figure size 640x480 with 1 Axes>"
      ]
     },
     "metadata": {},
     "output_type": "display_data"
    }
   ],
   "source": [
    "import torch\n",
    "from torch import nn\n",
    "from torch.utils.data import TensorDataset, DataLoader\n",
    "import torch.nn.functional as F\n",
    "from torch import optim\n",
    "import matplotlib.pyplot as plt\n",
    "\n",
    "epochs = 100\n",
    "embedding_size = 100\n",
    "\n",
    "# Aumentar la complejidad del modelo\n",
    "class ComplexRecommenderNet(nn.Module):\n",
    "    def __init__(self, num_users, num_movies, embedding_size):\n",
    "        super().__init__()\n",
    "        self.user_embedding = nn.Embedding(num_users, embedding_size)\n",
    "        self.movie_embedding = nn.Embedding(num_movies, embedding_size)\n",
    "        self.fc1 = nn.Linear(embedding_size * 2, 128)\n",
    "        self.fc2 = nn.Linear(128, 64)\n",
    "        self.output = nn.Linear(64, 1)\n",
    "    \n",
    "    def forward(self, user_ids, movie_ids):\n",
    "        user_embedding = self.user_embedding(user_ids)\n",
    "        movie_embedding = self.movie_embedding(movie_ids)\n",
    "        x = torch.cat([user_embedding, movie_embedding], dim=1)\n",
    "        x = F.relu(self.fc1(x))\n",
    "        x = F.relu(self.fc2(x))\n",
    "        return self.output(x)\n",
    "\n",
    "model = ComplexRecommenderNet(num_users, num_movies, embedding_size)\n",
    "\n",
    "# Usar un optimizador diferente\n",
    "optimizer = optim.RMSprop(model.parameters(), lr=0.001)\n",
    "\n",
    "# Ajustar el tamaño del lote\n",
    "batch_size = 256\n",
    "train_dataset = TensorDataset(train_user_ids, train_movie_ids, train_ratings)\n",
    "valid_dataset = TensorDataset(valid_user_ids, valid_movie_ids, valid_ratings)\n",
    "\n",
    "train_loader = DataLoader(train_dataset, batch_size=batch_size, shuffle=True)\n",
    "\n",
    "# Usar una programación de la tasa de aprendizaje\n",
    "scheduler = optim.lr_scheduler.StepLR(optimizer, step_size=10, gamma=0.1)\n",
    "\n",
    "\n",
    "# Asumiendo que tienes un conjunto de validación\n",
    "valid_dataset = TensorDataset(valid_user_ids, valid_movie_ids, valid_ratings)\n",
    "valid_loader = DataLoader(valid_dataset, batch_size=batch_size, shuffle=True)\n",
    "\n",
    "train_losses = []\n",
    "valid_losses = []\n",
    "\n",
    "for epoch in range(epochs):\n",
    "    model.train()\n",
    "    train_epoch_losses = []\n",
    "    for user_ids, movie_ids, ratings in train_loader:\n",
    "        # Tu código de entrenamiento aquí\n",
    "        train_epoch_losses.append(loss.item())\n",
    "    train_epoch_loss = sum(train_epoch_losses) / len(train_epoch_losses)\n",
    "    train_losses.append(train_epoch_loss)\n",
    "\n",
    "    model.eval()\n",
    "    valid_epoch_losses = []\n",
    "    with torch.no_grad():\n",
    "        for user_ids, movie_ids, ratings in valid_loader:\n",
    "            outputs = model(user_ids, movie_ids).squeeze()\n",
    "            loss = loss_fn(outputs, ratings)\n",
    "            valid_epoch_losses.append(loss.item())\n",
    "    valid_epoch_loss = sum(valid_epoch_losses) / len(valid_epoch_losses)\n",
    "    valid_losses.append(valid_epoch_loss)\n",
    "\n",
    "    print(f'Epoch {epoch}, Train Loss: {train_epoch_loss}, Valid Loss: {valid_epoch_loss}')\n",
    "\n",
    "# Plot the losses\n",
    "plt.plot(train_losses, label='Train Loss')\n",
    "plt.plot(valid_losses, label='Valid Loss')\n",
    "plt.xlabel('Epoch')\n",
    "plt.ylabel('Loss')\n",
    "plt.legend()\n",
    "plt.show()"
   ]
  },
  {
   "cell_type": "code",
   "execution_count": 75,
   "metadata": {},
   "outputs": [
    {
     "name": "stdout",
     "output_type": "stream",
     "text": [
      "User ID: 50, Movie ID: 0\n",
      "Actual rating: 4.0, Predicted rating: 4.23982572555542\n"
     ]
    }
   ],
   "source": [
    "# Seleccionar un usuario y una película al azar del conjunto de datos de entrenamiento\n",
    "random_index = torch.randint(0, len(train_dataset), (1,)).item()\n",
    "random_user, random_movie, actual_rating = train_dataset[random_index]\n",
    "\n",
    "# Usar el modelo para predecir la calificación\n",
    "model.eval()\n",
    "with torch.no_grad():\n",
    "    predicted_rating = model(random_user.unsqueeze(0), random_movie.unsqueeze(0)).item()\n",
    "\n",
    "print(f'User ID: {random_user.item()}, Movie ID: {random_movie.item()}')\n",
    "print(f'Actual rating: {actual_rating.item()}, Predicted rating: {predicted_rating}')"
   ]
  },
  {
   "cell_type": "code",
   "execution_count": 71,
   "metadata": {},
   "outputs": [
    {
     "ename": "AttributeError",
     "evalue": "'numpy.int64' object has no attribute 'unsqueeze'",
     "output_type": "error",
     "traceback": [
      "\u001b[1;31m---------------------------------------------------------------------------\u001b[0m",
      "\u001b[1;31mAttributeError\u001b[0m                            Traceback (most recent call last)",
      "Cell \u001b[1;32mIn[71], line 2\u001b[0m\n\u001b[0;32m      1\u001b[0m \u001b[38;5;66;03m# Obtener el embedding del usuario seleccionado\u001b[39;00m\n\u001b[1;32m----> 2\u001b[0m user_embedding \u001b[38;5;241m=\u001b[39m model\u001b[38;5;241m.\u001b[39muser_embedding(\u001b[43mrandom_user\u001b[49m\u001b[38;5;241;43m.\u001b[39;49m\u001b[43munsqueeze\u001b[49m(\u001b[38;5;241m0\u001b[39m))\n\u001b[0;32m      4\u001b[0m \u001b[38;5;66;03m# Calcular el producto escalar de este embedding de usuario con todos los embeddings de película\u001b[39;00m\n\u001b[0;32m      5\u001b[0m movie_scores \u001b[38;5;241m=\u001b[39m torch\u001b[38;5;241m.\u001b[39mmm(user_embedding, model\u001b[38;5;241m.\u001b[39mmovie_embedding\u001b[38;5;241m.\u001b[39mweight\u001b[38;5;241m.\u001b[39mt())\u001b[38;5;241m.\u001b[39msqueeze()\n",
      "\u001b[1;31mAttributeError\u001b[0m: 'numpy.int64' object has no attribute 'unsqueeze'"
     ]
    }
   ],
   "source": [
    "# Obtener el embedding del usuario seleccionado\n",
    "user_embedding = model.user_embedding(random_user.unsqueeze(0))\n",
    "\n",
    "# Calcular el producto escalar de este embedding de usuario con todos los embeddings de película\n",
    "movie_scores = torch.mm(user_embedding, model.movie_embedding.weight.t()).squeeze()\n",
    "\n",
    "# Obtener las películas que el usuario ya ha calificado\n",
    "rated_movies = train_dataset.tensors[1][train_dataset.tensors[0] == random_user]\n",
    "\n",
    "# Encontrar la película con la puntuación más alta que el usuario aún no ha calificado\n",
    "recommended_movie = None\n",
    "for movie_id, score in enumerate(movie_scores):\n",
    "    if movie_id not in rated_movies and (recommended_movie is None or score > movie_scores[recommended_movie]):\n",
    "        recommended_movie = movie_id\n",
    "\n",
    "print(f'Recommended Movie ID: {recommended_movie}')\n",
    "\n",
    "# Comprobar si la recomendación es correcta haciendo una predicción del puntuaje con la red neuronal\n",
    "with torch.no_grad():\n",
    "    predicted_rating = model(random_user.unsqueeze(0), torch.tensor([recommended_movie])).item()\n",
    "\n",
    "print(f'Predicted rating for recommended movie: {predicted_rating}')"
   ]
  }
 ],
 "metadata": {
  "kernelspec": {
   "display_name": "venv",
   "language": "python",
   "name": "python3"
  },
  "language_info": {
   "codemirror_mode": {
    "name": "ipython",
    "version": 3
   },
   "file_extension": ".py",
   "mimetype": "text/x-python",
   "name": "python",
   "nbconvert_exporter": "python",
   "pygments_lexer": "ipython3",
   "version": "3.12.3"
  }
 },
 "nbformat": 4,
 "nbformat_minor": 2
}
